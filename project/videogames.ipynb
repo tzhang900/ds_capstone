{
 "cells": [
  {
   "cell_type": "markdown",
   "id": "6db0b42b",
   "metadata": {},
   "source": [
    "##   Video Game industry is a fun business, but it's also full of amazing success stories. However, like film industry, it's a hit or miss in terms of investment. It's not unusual that publishers/developers invest significantly but do not receive the expected return. APB: All Points Bulletin, a game that was published on 2010 by Electronic Arts but with a dismal sales record,  cost 100 millions US dollar to develop, but eventually was sold to a different company for around 2 million US dollar."
   ]
  },
  {
   "cell_type": "markdown",
   "id": "1ff6de91",
   "metadata": {},
   "source": [
    "##   There are many factors involved to determine if a game is success or not. The focus of this project, is to discover the impact from review scores along with other factors to the game sales record. The project also explore the possibility a model to predict sales from review, and a model have a predict sales from one region to another. The technique used here could be beneficial to other business. For example. with sufficient data, we can predict the sales of a Sage ERP module by review score, or predict sales across different regions."
   ]
  },
  {
   "cell_type": "markdown",
   "id": "5301bfbb",
   "metadata": {},
   "source": [
    "##   Dataset for this project is from Kaggle (https://www.kaggle.com/xtyscut/video-games-sales-as-at-22-dec-2016csv?select=Video_Games_Sales_as_at_22_Dec_2016.csv). The data combines with VGSales data and review scores from Metacritic. The data is a bit old, without latest data from PS5 and Xbox Series X, but neverless, it helps to find a trend in video games sales. The data, however, is not consistent and data clean up is needed for further processing. "
   ]
  },
  {
   "cell_type": "code",
   "execution_count": 1,
   "id": "47ddbaf8",
   "metadata": {},
   "outputs": [],
   "source": [
    "# common imports\n",
    "from pathlib import Path\n",
    "import os\n",
    "import numpy as np\n",
    "import pandas as pd\n",
    "import seaborn as sns\n",
    "import pickle\n",
    "# sci-kit learn is our one-stop shop for machine learning!\n",
    "import sklearn\n",
    "from sklearn.model_selection import train_test_split\n",
    "from sklearn.preprocessing import StandardScaler\n",
    "from sklearn.metrics import mean_absolute_error, mean_squared_error, r2_score\n",
    "from sklearn.linear_model import LinearRegression\n",
    "from sklearn import metrics\n",
    "\n",
    "# To plot pretty figures\n",
    "%matplotlib inline\n",
    "import matplotlib as mpl\n",
    "import matplotlib.pyplot as plt\n",
    "mpl.rc('axes', labelsize=14)\n",
    "mpl.rc('xtick', labelsize=12)\n",
    "mpl.rc('ytick', labelsize=12)"
   ]
  },
  {
   "cell_type": "markdown",
   "id": "f2998799",
   "metadata": {},
   "source": [
    "## Data preparation"
   ]
  },
  {
   "cell_type": "code",
   "execution_count": 2,
   "id": "0d4fb650",
   "metadata": {},
   "outputs": [],
   "source": [
    "# read in the dataset\n",
    "filepath = Path.joinpath(Path.cwd().parent, 'data', 'Video_Games_Sales_as_at_22_Dec_2016.csv')\n",
    "games = pd.read_csv(filepath)"
   ]
  },
  {
   "cell_type": "code",
   "execution_count": 3,
   "id": "be7941dd",
   "metadata": {},
   "outputs": [
    {
     "data": {
      "text/plain": [
       "(16719, 16)"
      ]
     },
     "execution_count": 3,
     "metadata": {},
     "output_type": "execute_result"
    }
   ],
   "source": [
    "# data set info\n",
    "games.shape"
   ]
  },
  {
   "cell_type": "code",
   "execution_count": 4,
   "id": "e1738db2",
   "metadata": {
    "scrolled": true
   },
   "outputs": [
    {
     "data": {
      "text/html": [
       "<div>\n",
       "<style scoped>\n",
       "    .dataframe tbody tr th:only-of-type {\n",
       "        vertical-align: middle;\n",
       "    }\n",
       "\n",
       "    .dataframe tbody tr th {\n",
       "        vertical-align: top;\n",
       "    }\n",
       "\n",
       "    .dataframe thead th {\n",
       "        text-align: right;\n",
       "    }\n",
       "</style>\n",
       "<table border=\"1\" class=\"dataframe\">\n",
       "  <thead>\n",
       "    <tr style=\"text-align: right;\">\n",
       "      <th></th>\n",
       "      <th>Name</th>\n",
       "      <th>Platform</th>\n",
       "      <th>Year_of_Release</th>\n",
       "      <th>Genre</th>\n",
       "      <th>Publisher</th>\n",
       "      <th>NA_Sales</th>\n",
       "      <th>EU_Sales</th>\n",
       "      <th>JP_Sales</th>\n",
       "      <th>Other_Sales</th>\n",
       "      <th>Global_Sales</th>\n",
       "      <th>Critic_Score</th>\n",
       "      <th>Critic_Count</th>\n",
       "      <th>User_Score</th>\n",
       "      <th>User_Count</th>\n",
       "      <th>Developer</th>\n",
       "      <th>Rating</th>\n",
       "    </tr>\n",
       "  </thead>\n",
       "  <tbody>\n",
       "    <tr>\n",
       "      <th>0</th>\n",
       "      <td>Wii Sports</td>\n",
       "      <td>Wii</td>\n",
       "      <td>2006.0</td>\n",
       "      <td>Sports</td>\n",
       "      <td>Nintendo</td>\n",
       "      <td>41.36</td>\n",
       "      <td>28.96</td>\n",
       "      <td>3.77</td>\n",
       "      <td>8.45</td>\n",
       "      <td>82.53</td>\n",
       "      <td>76.0</td>\n",
       "      <td>51.0</td>\n",
       "      <td>8</td>\n",
       "      <td>322.0</td>\n",
       "      <td>Nintendo</td>\n",
       "      <td>E</td>\n",
       "    </tr>\n",
       "    <tr>\n",
       "      <th>1</th>\n",
       "      <td>Super Mario Bros.</td>\n",
       "      <td>NES</td>\n",
       "      <td>1985.0</td>\n",
       "      <td>Platform</td>\n",
       "      <td>Nintendo</td>\n",
       "      <td>29.08</td>\n",
       "      <td>3.58</td>\n",
       "      <td>6.81</td>\n",
       "      <td>0.77</td>\n",
       "      <td>40.24</td>\n",
       "      <td>NaN</td>\n",
       "      <td>NaN</td>\n",
       "      <td>NaN</td>\n",
       "      <td>NaN</td>\n",
       "      <td>NaN</td>\n",
       "      <td>NaN</td>\n",
       "    </tr>\n",
       "    <tr>\n",
       "      <th>2</th>\n",
       "      <td>Mario Kart Wii</td>\n",
       "      <td>Wii</td>\n",
       "      <td>2008.0</td>\n",
       "      <td>Racing</td>\n",
       "      <td>Nintendo</td>\n",
       "      <td>15.68</td>\n",
       "      <td>12.76</td>\n",
       "      <td>3.79</td>\n",
       "      <td>3.29</td>\n",
       "      <td>35.52</td>\n",
       "      <td>82.0</td>\n",
       "      <td>73.0</td>\n",
       "      <td>8.3</td>\n",
       "      <td>709.0</td>\n",
       "      <td>Nintendo</td>\n",
       "      <td>E</td>\n",
       "    </tr>\n",
       "    <tr>\n",
       "      <th>3</th>\n",
       "      <td>Wii Sports Resort</td>\n",
       "      <td>Wii</td>\n",
       "      <td>2009.0</td>\n",
       "      <td>Sports</td>\n",
       "      <td>Nintendo</td>\n",
       "      <td>15.61</td>\n",
       "      <td>10.93</td>\n",
       "      <td>3.28</td>\n",
       "      <td>2.95</td>\n",
       "      <td>32.77</td>\n",
       "      <td>80.0</td>\n",
       "      <td>73.0</td>\n",
       "      <td>8</td>\n",
       "      <td>192.0</td>\n",
       "      <td>Nintendo</td>\n",
       "      <td>E</td>\n",
       "    </tr>\n",
       "    <tr>\n",
       "      <th>4</th>\n",
       "      <td>Pokemon Red/Pokemon Blue</td>\n",
       "      <td>GB</td>\n",
       "      <td>1996.0</td>\n",
       "      <td>Role-Playing</td>\n",
       "      <td>Nintendo</td>\n",
       "      <td>11.27</td>\n",
       "      <td>8.89</td>\n",
       "      <td>10.22</td>\n",
       "      <td>1.00</td>\n",
       "      <td>31.37</td>\n",
       "      <td>NaN</td>\n",
       "      <td>NaN</td>\n",
       "      <td>NaN</td>\n",
       "      <td>NaN</td>\n",
       "      <td>NaN</td>\n",
       "      <td>NaN</td>\n",
       "    </tr>\n",
       "  </tbody>\n",
       "</table>\n",
       "</div>"
      ],
      "text/plain": [
       "                       Name Platform  Year_of_Release         Genre Publisher  \\\n",
       "0                Wii Sports      Wii           2006.0        Sports  Nintendo   \n",
       "1         Super Mario Bros.      NES           1985.0      Platform  Nintendo   \n",
       "2            Mario Kart Wii      Wii           2008.0        Racing  Nintendo   \n",
       "3         Wii Sports Resort      Wii           2009.0        Sports  Nintendo   \n",
       "4  Pokemon Red/Pokemon Blue       GB           1996.0  Role-Playing  Nintendo   \n",
       "\n",
       "   NA_Sales  EU_Sales  JP_Sales  Other_Sales  Global_Sales  Critic_Score  \\\n",
       "0     41.36     28.96      3.77         8.45         82.53          76.0   \n",
       "1     29.08      3.58      6.81         0.77         40.24           NaN   \n",
       "2     15.68     12.76      3.79         3.29         35.52          82.0   \n",
       "3     15.61     10.93      3.28         2.95         32.77          80.0   \n",
       "4     11.27      8.89     10.22         1.00         31.37           NaN   \n",
       "\n",
       "   Critic_Count User_Score  User_Count Developer Rating  \n",
       "0          51.0          8       322.0  Nintendo      E  \n",
       "1           NaN        NaN         NaN       NaN    NaN  \n",
       "2          73.0        8.3       709.0  Nintendo      E  \n",
       "3          73.0          8       192.0  Nintendo      E  \n",
       "4           NaN        NaN         NaN       NaN    NaN  "
      ]
     },
     "execution_count": 4,
     "metadata": {},
     "output_type": "execute_result"
    }
   ],
   "source": [
    "# what is the data look like\n",
    "games.head(5)"
   ]
  },
  {
   "cell_type": "code",
   "execution_count": 5,
   "id": "ba5fcddf",
   "metadata": {},
   "outputs": [
    {
     "data": {
      "text/plain": [
       "Name               11562\n",
       "Platform              31\n",
       "Year_of_Release       39\n",
       "Genre                 12\n",
       "Publisher            581\n",
       "NA_Sales             402\n",
       "EU_Sales             307\n",
       "JP_Sales             244\n",
       "Other_Sales          155\n",
       "Global_Sales         629\n",
       "Critic_Score          82\n",
       "Critic_Count         106\n",
       "User_Score            96\n",
       "User_Count           888\n",
       "Developer           1696\n",
       "Rating                 8\n",
       "dtype: int64"
      ]
     },
     "execution_count": 5,
     "metadata": {},
     "output_type": "execute_result"
    }
   ],
   "source": [
    "# unique value for each columns\n",
    "games.nunique()"
   ]
  },
  {
   "cell_type": "code",
   "execution_count": 6,
   "id": "740f8345",
   "metadata": {},
   "outputs": [
    {
     "data": {
      "text/plain": [
       "Name                object\n",
       "Platform            object\n",
       "Year_of_Release    float64\n",
       "Genre               object\n",
       "Publisher           object\n",
       "NA_Sales           float64\n",
       "EU_Sales           float64\n",
       "JP_Sales           float64\n",
       "Other_Sales        float64\n",
       "Global_Sales       float64\n",
       "Critic_Score       float64\n",
       "Critic_Count       float64\n",
       "User_Score          object\n",
       "User_Count         float64\n",
       "Developer           object\n",
       "Rating              object\n",
       "dtype: object"
      ]
     },
     "execution_count": 6,
     "metadata": {},
     "output_type": "execute_result"
    }
   ],
   "source": [
    "# how about data type\n",
    "games.dtypes"
   ]
  },
  {
   "cell_type": "code",
   "execution_count": 7,
   "id": "8537c363",
   "metadata": {},
   "outputs": [
    {
     "data": {
      "text/plain": [
       "User_Count         9129\n",
       "Critic_Score       8582\n",
       "Critic_Count       8582\n",
       "Rating             6769\n",
       "User_Score         6704\n",
       "Developer          6623\n",
       "Year_of_Release     269\n",
       "Publisher            54\n",
       "Name                  2\n",
       "Genre                 2\n",
       "dtype: int64"
      ]
     },
     "execution_count": 7,
     "metadata": {},
     "output_type": "execute_result"
    }
   ],
   "source": [
    "# check null data\n",
    "games.isnull().sum().sort_values(ascending=False).head(10)"
   ]
  },
  {
   "cell_type": "markdown",
   "id": "94bf54ae",
   "metadata": {},
   "source": [
    "# many missing data. Do the following the clean up the data\n",
    "1. Drop columns that are unrelevant to this analysis ('Developer', 'User_Count', 'Critic_Count', 'Publisher', 'Name')\n",
    "2. Covert Rating\n",
    "3. Make datatype consistent for modeling\n",
    "4. Fill nan score value with mean value for the score columns (Critic Score and User Score)\n",
    "5. Drop rest of the nan value"
   ]
  },
  {
   "cell_type": "markdown",
   "id": "177cb386",
   "metadata": {},
   "source": [
    "## Drop unrelevant columns"
   ]
  },
  {
   "cell_type": "code",
   "execution_count": 8,
   "id": "7aee568a",
   "metadata": {},
   "outputs": [],
   "source": [
    "games.drop(['Developer'] ,inplace =True, axis =1)\n",
    "games.drop(['Critic_Count'] ,inplace =True, axis =1)\n",
    "games.drop(['User_Count'] ,inplace =True, axis =1)\n",
    "games.drop(['Name'], inplace=True, axis = 1)\n",
    "games.drop(['Publisher'], inplace=True, axis = 1)"
   ]
  },
  {
   "cell_type": "markdown",
   "id": "8b79d8a3",
   "metadata": {},
   "source": [
    "## Covert Rating"
   ]
  },
  {
   "cell_type": "code",
   "execution_count": 9,
   "id": "150a4ee3",
   "metadata": {},
   "outputs": [
    {
     "data": {
      "text/plain": [
       "E       3991\n",
       "T       2961\n",
       "M       1563\n",
       "E10+    1420\n",
       "EC         8\n",
       "K-A        3\n",
       "RP         3\n",
       "AO         1\n",
       "Name: Rating, dtype: int64"
      ]
     },
     "execution_count": 9,
     "metadata": {},
     "output_type": "execute_result"
    }
   ],
   "source": [
    "# check what type of data distribution on Rating\n",
    "games['Rating'].value_counts()"
   ]
  },
  {
   "cell_type": "code",
   "execution_count": 10,
   "id": "d06307b6",
   "metadata": {},
   "outputs": [],
   "source": [
    "# AO has only 1 game, which sales extremly too well (Grand Theft Auto 4), this will skew the analysis, let's put it into M cateogry which was its initial rating\n",
    "# Also K-A (Kid to Aldut) is the same as E (everyone)\n",
    "games['Rating'] = games['Rating'].replace(\"AO\", \"M\")\n",
    "games['Rating'] = games['Rating'].replace(\"K-A\", \"E\")\n",
    "games['Rating'] = games['Rating'].fillna(\"RP\")"
   ]
  },
  {
   "cell_type": "code",
   "execution_count": 11,
   "id": "cf7824ce",
   "metadata": {},
   "outputs": [
    {
     "data": {
      "text/plain": [
       "array(['E', 'RP', 'M', 'T', 'E10+', 'EC'], dtype=object)"
      ]
     },
     "execution_count": 11,
     "metadata": {},
     "output_type": "execute_result"
    }
   ],
   "source": [
    "# check what's left for Rating\n",
    "games['Rating'].unique()"
   ]
  },
  {
   "cell_type": "markdown",
   "id": "a2ebfd74",
   "metadata": {},
   "source": [
    "## Make datatype consistent"
   ]
  },
  {
   "cell_type": "code",
   "execution_count": 12,
   "id": "7a35fa8b",
   "metadata": {},
   "outputs": [
    {
     "data": {
      "text/plain": [
       "Platform            object\n",
       "Year_of_Release    float64\n",
       "Genre               object\n",
       "NA_Sales           float64\n",
       "EU_Sales           float64\n",
       "JP_Sales           float64\n",
       "Other_Sales        float64\n",
       "Global_Sales       float64\n",
       "Critic_Score       float64\n",
       "User_Score          object\n",
       "Rating              object\n",
       "dtype: object"
      ]
     },
     "execution_count": 12,
     "metadata": {},
     "output_type": "execute_result"
    }
   ],
   "source": [
    "# check column datatype\n",
    "games.dtypes"
   ]
  },
  {
   "cell_type": "markdown",
   "id": "da537728",
   "metadata": {},
   "source": [
    "While Critic_Score is float64, User_Score is an object. Convert User_Score to float64. Before that, let's check what's in User_Score first, some values might not be convertable"
   ]
  },
  {
   "cell_type": "code",
   "execution_count": 13,
   "id": "0112d5a5",
   "metadata": {
    "scrolled": true
   },
   "outputs": [
    {
     "data": {
      "text/plain": [
       "array(['8', nan, '8.3', '8.5', '6.6', '8.4', '8.6', '7.7', '6.3', '7.4',\n",
       "       '8.2', '9', '7.9', '8.1', '8.7', '7.1', '3.4', '5.3', '4.8', '3.2',\n",
       "       '8.9', '6.4', '7.8', '7.5', '2.6', '7.2', '9.2', '7', '7.3', '4.3',\n",
       "       '7.6', '5.7', '5', '9.1', '6.5', 'tbd', '8.8', '6.9', '9.4', '6.8',\n",
       "       '6.1', '6.7', '5.4', '4', '4.9', '4.5', '9.3', '6.2', '4.2', '6',\n",
       "       '3.7', '4.1', '5.8', '5.6', '5.5', '4.4', '4.6', '5.9', '3.9',\n",
       "       '3.1', '2.9', '5.2', '3.3', '4.7', '5.1', '3.5', '2.5', '1.9', '3',\n",
       "       '2.7', '2.2', '2', '9.5', '2.1', '3.6', '2.8', '1.8', '3.8', '0',\n",
       "       '1.6', '9.6', '2.4', '1.7', '1.1', '0.3', '1.5', '0.7', '1.2',\n",
       "       '2.3', '0.5', '1.3', '0.2', '0.6', '1.4', '0.9', '1', '9.7'],\n",
       "      dtype=object)"
      ]
     },
     "execution_count": 13,
     "metadata": {},
     "output_type": "execute_result"
    }
   ],
   "source": [
    "# check what User_Score could be\n",
    "games['User_Score'].unique()"
   ]
  },
  {
   "cell_type": "markdown",
   "id": "98b51fa3",
   "metadata": {},
   "source": [
    "Other than nan, 'tbd' is a non-numeric value. change 'tbd' to 'nan' as well so we can fill in some meanful value for both later on"
   ]
  },
  {
   "cell_type": "code",
   "execution_count": 14,
   "id": "b519bde4",
   "metadata": {},
   "outputs": [],
   "source": [
    "# Replace'tbd' with nan\n",
    "games['User_Score'] = games['User_Score'].replace('tbd', np.nan)"
   ]
  },
  {
   "cell_type": "code",
   "execution_count": 15,
   "id": "d368e1e1",
   "metadata": {},
   "outputs": [],
   "source": [
    "# Now change User_Score to numeric type\n",
    "games['User_Score'] = games['User_Score'].astype('float64')"
   ]
  },
  {
   "cell_type": "markdown",
   "id": "37eb9e02",
   "metadata": {},
   "source": [
    "## Handling Nan values"
   ]
  },
  {
   "cell_type": "code",
   "execution_count": 16,
   "id": "0c9e0851",
   "metadata": {},
   "outputs": [
    {
     "data": {
      "text/plain": [
       "User_Score         9129\n",
       "Critic_Score       8582\n",
       "Year_of_Release     269\n",
       "Genre                 2\n",
       "Platform              0\n",
       "NA_Sales              0\n",
       "EU_Sales              0\n",
       "JP_Sales              0\n",
       "Other_Sales           0\n",
       "Global_Sales          0\n",
       "dtype: int64"
      ]
     },
     "execution_count": 16,
     "metadata": {},
     "output_type": "execute_result"
    }
   ],
   "source": [
    "# check null data\n",
    "games.isnull().sum().sort_values(ascending=False).head(10)"
   ]
  },
  {
   "cell_type": "markdown",
   "id": "be52b4f4",
   "metadata": {},
   "source": [
    "Significantn number of missing data for User_Score and Critic_Score, drop them will affect the completeness of the dataset. Fill in mean value of the column for Nan value"
   ]
  },
  {
   "cell_type": "code",
   "execution_count": 17,
   "id": "bbb58503",
   "metadata": {},
   "outputs": [],
   "source": [
    "#fill in mean value for User_Score and Critic_Score\n",
    "games['User_Score'].fillna(value=games['User_Score'].mean(), inplace=True)\n",
    "games['Critic_Score'].fillna(value=games['Critic_Score'].mean(), inplace=True)"
   ]
  },
  {
   "cell_type": "code",
   "execution_count": 18,
   "id": "5821a86e",
   "metadata": {},
   "outputs": [],
   "source": [
    "#  Still a few row missing data on Name, Genre and Year_of_Release, but not that much compared to the whole dataset. Drop them\n",
    "games.dropna(inplace=True)"
   ]
  },
  {
   "cell_type": "code",
   "execution_count": 19,
   "id": "3ccffc34",
   "metadata": {},
   "outputs": [
    {
     "data": {
      "text/plain": [
       "Platform           0\n",
       "Year_of_Release    0\n",
       "Genre              0\n",
       "NA_Sales           0\n",
       "EU_Sales           0\n",
       "JP_Sales           0\n",
       "Other_Sales        0\n",
       "Global_Sales       0\n",
       "Critic_Score       0\n",
       "User_Score         0\n",
       "dtype: int64"
      ]
     },
     "execution_count": 19,
     "metadata": {},
     "output_type": "execute_result"
    }
   ],
   "source": [
    "#check null again, data is clean\n",
    "games.isnull().sum().sort_values(ascending=False).head(10)"
   ]
  },
  {
   "cell_type": "code",
   "execution_count": 20,
   "id": "3ec1f1f7",
   "metadata": {},
   "outputs": [
    {
     "data": {
      "text/plain": [
       "(16448, 11)"
      ]
     },
     "execution_count": 20,
     "metadata": {},
     "output_type": "execute_result"
    }
   ],
   "source": [
    "# how many record left after the cleanup\n",
    "games.shape"
   ]
  },
  {
   "cell_type": "markdown",
   "id": "e8086f0d",
   "metadata": {},
   "source": [
    "## Analyze"
   ]
  },
  {
   "cell_type": "code",
   "execution_count": 21,
   "id": "d2e30a9c",
   "metadata": {},
   "outputs": [
    {
     "data": {
      "text/plain": [
       "<AxesSubplot:>"
      ]
     },
     "execution_count": 21,
     "metadata": {},
     "output_type": "execute_result"
    },
    {
     "data": {
      "image/png": "[encoded data removed]",
      "text/plain": [
       "<Figure size 432x288 with 2 Axes>"
      ]
     },
     "metadata": {
      "needs_background": "light"
     },
     "output_type": "display_data"
    }
   ],
   "source": [
    "# check correlation between features\n",
    "sns.heatmap(games.corr(),annot=True,cmap='Reds', fmt='.2g')"
   ]
  },
  {
   "cell_type": "markdown",
   "id": "c2d18880",
   "metadata": {},
   "source": [
    "From the heat map, these have strong correlations\n",
    "- NA_SALES and EU_SALES\n",
    "- NA_SALES and Other_SALES\n",
    "- Global Sales and all other type of Sales (this makes sense as Global Sales are the total of others). No need to further model this\n",
    "- Critic_Score and Global Sales (not very strong, but let's still build a model based on that to predict sales\n",
    "User_Score doesn't seem to have too much correlation with sales"
   ]
  },
  {
   "cell_type": "code",
   "execution_count": 22,
   "id": "60b0d120",
   "metadata": {},
   "outputs": [
    {
     "data": {
      "text/plain": [
       "[(0.0, 17.5)]"
      ]
     },
     "execution_count": 22,
     "metadata": {},
     "output_type": "execute_result"
    },
    {
     "data": {
      "image/png": "[encoded data removed]",
      "text/plain": [
       "<Figure size 864x360 with 1 Axes>"
      ]
     },
     "metadata": {
      "needs_background": "light"
     },
     "output_type": "display_data"
    }
   ],
   "source": [
    "# Visualize the correlation between Critic_Score and Global_Sales\n",
    "fig, ax = plt.subplots(1,1, figsize=(12,5))\n",
    "sns.regplot(x=\"Critic_Score\", y=\"Global_Sales\", data=games, ci=None, color=\"#75358c\", x_jitter=.02).set(ylim=(0, 17.5))"
   ]
  },
  {
   "cell_type": "code",
   "execution_count": 23,
   "id": "004eb09a",
   "metadata": {},
   "outputs": [
    {
     "data": {
      "text/plain": [
       "[(0.0, 17.5)]"
      ]
     },
     "execution_count": 23,
     "metadata": {},
     "output_type": "execute_result"
    },
    {
     "data": {
      "image/png": "[encoded data removed]",
      "text/plain": [
       "<Figure size 864x360 with 1 Axes>"
      ]
     },
     "metadata": {
      "needs_background": "light"
     },
     "output_type": "display_data"
    }
   ],
   "source": [
    "# Visualize the correlation between North American Sales and Europe Sales\n",
    "fig, ax = plt.subplots(1,1, figsize=(12,5))\n",
    "sns.regplot(x=\"NA_Sales\", y=\"EU_Sales\", data=games, ci=None, color=\"#75358c\", x_jitter=.02).set(ylim=(0, 17.5))"
   ]
  },
  {
   "cell_type": "markdown",
   "id": "c768e6fe",
   "metadata": {},
   "source": [
    "## First to analyze factors to affect global sales"
   ]
  },
  {
   "cell_type": "code",
   "execution_count": 24,
   "id": "e27b2e2e",
   "metadata": {},
   "outputs": [],
   "source": [
    "# Convert categorical variable into dummy/indicator variables.\n",
    "games_full = pd.get_dummies(games)"
   ]
  },
  {
   "cell_type": "code",
   "execution_count": 25,
   "id": "ed5075c4",
   "metadata": {
    "scrolled": true
   },
   "outputs": [
    {
     "data": {
      "text/html": [
       "<div>\n",
       "<style scoped>\n",
       "    .dataframe tbody tr th:only-of-type {\n",
       "        vertical-align: middle;\n",
       "    }\n",
       "\n",
       "    .dataframe tbody tr th {\n",
       "        vertical-align: top;\n",
       "    }\n",
       "\n",
       "    .dataframe thead th {\n",
       "        text-align: right;\n",
       "    }\n",
       "</style>\n",
       "<table border=\"1\" class=\"dataframe\">\n",
       "  <thead>\n",
       "    <tr style=\"text-align: right;\">\n",
       "      <th></th>\n",
       "      <th>Year_of_Release</th>\n",
       "      <th>NA_Sales</th>\n",
       "      <th>EU_Sales</th>\n",
       "      <th>JP_Sales</th>\n",
       "      <th>Other_Sales</th>\n",
       "      <th>Global_Sales</th>\n",
       "      <th>Critic_Score</th>\n",
       "      <th>User_Score</th>\n",
       "      <th>Platform_2600</th>\n",
       "      <th>Platform_3DO</th>\n",
       "      <th>...</th>\n",
       "      <th>Genre_Shooter</th>\n",
       "      <th>Genre_Simulation</th>\n",
       "      <th>Genre_Sports</th>\n",
       "      <th>Genre_Strategy</th>\n",
       "      <th>Rating_E</th>\n",
       "      <th>Rating_E10+</th>\n",
       "      <th>Rating_EC</th>\n",
       "      <th>Rating_M</th>\n",
       "      <th>Rating_RP</th>\n",
       "      <th>Rating_T</th>\n",
       "    </tr>\n",
       "  </thead>\n",
       "  <tbody>\n",
       "    <tr>\n",
       "      <th>0</th>\n",
       "      <td>2006.0</td>\n",
       "      <td>41.36</td>\n",
       "      <td>28.96</td>\n",
       "      <td>3.77</td>\n",
       "      <td>8.45</td>\n",
       "      <td>82.53</td>\n",
       "      <td>76.000000</td>\n",
       "      <td>8.000000</td>\n",
       "      <td>0</td>\n",
       "      <td>0</td>\n",
       "      <td>...</td>\n",
       "      <td>0</td>\n",
       "      <td>0</td>\n",
       "      <td>1</td>\n",
       "      <td>0</td>\n",
       "      <td>1</td>\n",
       "      <td>0</td>\n",
       "      <td>0</td>\n",
       "      <td>0</td>\n",
       "      <td>0</td>\n",
       "      <td>0</td>\n",
       "    </tr>\n",
       "    <tr>\n",
       "      <th>1</th>\n",
       "      <td>1985.0</td>\n",
       "      <td>29.08</td>\n",
       "      <td>3.58</td>\n",
       "      <td>6.81</td>\n",
       "      <td>0.77</td>\n",
       "      <td>40.24</td>\n",
       "      <td>68.967679</td>\n",
       "      <td>7.125046</td>\n",
       "      <td>0</td>\n",
       "      <td>0</td>\n",
       "      <td>...</td>\n",
       "      <td>0</td>\n",
       "      <td>0</td>\n",
       "      <td>0</td>\n",
       "      <td>0</td>\n",
       "      <td>0</td>\n",
       "      <td>0</td>\n",
       "      <td>0</td>\n",
       "      <td>0</td>\n",
       "      <td>1</td>\n",
       "      <td>0</td>\n",
       "    </tr>\n",
       "    <tr>\n",
       "      <th>2</th>\n",
       "      <td>2008.0</td>\n",
       "      <td>15.68</td>\n",
       "      <td>12.76</td>\n",
       "      <td>3.79</td>\n",
       "      <td>3.29</td>\n",
       "      <td>35.52</td>\n",
       "      <td>82.000000</td>\n",
       "      <td>8.300000</td>\n",
       "      <td>0</td>\n",
       "      <td>0</td>\n",
       "      <td>...</td>\n",
       "      <td>0</td>\n",
       "      <td>0</td>\n",
       "      <td>0</td>\n",
       "      <td>0</td>\n",
       "      <td>1</td>\n",
       "      <td>0</td>\n",
       "      <td>0</td>\n",
       "      <td>0</td>\n",
       "      <td>0</td>\n",
       "      <td>0</td>\n",
       "    </tr>\n",
       "    <tr>\n",
       "      <th>3</th>\n",
       "      <td>2009.0</td>\n",
       "      <td>15.61</td>\n",
       "      <td>10.93</td>\n",
       "      <td>3.28</td>\n",
       "      <td>2.95</td>\n",
       "      <td>32.77</td>\n",
       "      <td>80.000000</td>\n",
       "      <td>8.000000</td>\n",
       "      <td>0</td>\n",
       "      <td>0</td>\n",
       "      <td>...</td>\n",
       "      <td>0</td>\n",
       "      <td>0</td>\n",
       "      <td>1</td>\n",
       "      <td>0</td>\n",
       "      <td>1</td>\n",
       "      <td>0</td>\n",
       "      <td>0</td>\n",
       "      <td>0</td>\n",
       "      <td>0</td>\n",
       "      <td>0</td>\n",
       "    </tr>\n",
       "    <tr>\n",
       "      <th>4</th>\n",
       "      <td>1996.0</td>\n",
       "      <td>11.27</td>\n",
       "      <td>8.89</td>\n",
       "      <td>10.22</td>\n",
       "      <td>1.00</td>\n",
       "      <td>31.37</td>\n",
       "      <td>68.967679</td>\n",
       "      <td>7.125046</td>\n",
       "      <td>0</td>\n",
       "      <td>0</td>\n",
       "      <td>...</td>\n",
       "      <td>0</td>\n",
       "      <td>0</td>\n",
       "      <td>0</td>\n",
       "      <td>0</td>\n",
       "      <td>0</td>\n",
       "      <td>0</td>\n",
       "      <td>0</td>\n",
       "      <td>0</td>\n",
       "      <td>1</td>\n",
       "      <td>0</td>\n",
       "    </tr>\n",
       "  </tbody>\n",
       "</table>\n",
       "<p>5 rows × 57 columns</p>\n",
       "</div>"
      ],
      "text/plain": [
       "   Year_of_Release  NA_Sales  EU_Sales  JP_Sales  Other_Sales  Global_Sales  \\\n",
       "0           2006.0     41.36     28.96      3.77         8.45         82.53   \n",
       "1           1985.0     29.08      3.58      6.81         0.77         40.24   \n",
       "2           2008.0     15.68     12.76      3.79         3.29         35.52   \n",
       "3           2009.0     15.61     10.93      3.28         2.95         32.77   \n",
       "4           1996.0     11.27      8.89     10.22         1.00         31.37   \n",
       "\n",
       "   Critic_Score  User_Score  Platform_2600  Platform_3DO  ...  Genre_Shooter  \\\n",
       "0     76.000000    8.000000              0             0  ...              0   \n",
       "1     68.967679    7.125046              0             0  ...              0   \n",
       "2     82.000000    8.300000              0             0  ...              0   \n",
       "3     80.000000    8.000000              0             0  ...              0   \n",
       "4     68.967679    7.125046              0             0  ...              0   \n",
       "\n",
       "   Genre_Simulation  Genre_Sports  Genre_Strategy  Rating_E  Rating_E10+  \\\n",
       "0                 0             1               0         1            0   \n",
       "1                 0             0               0         0            0   \n",
       "2                 0             0               0         1            0   \n",
       "3                 0             1               0         1            0   \n",
       "4                 0             0               0         0            0   \n",
       "\n",
       "   Rating_EC  Rating_M  Rating_RP  Rating_T  \n",
       "0          0         0          0         0  \n",
       "1          0         0          1         0  \n",
       "2          0         0          0         0  \n",
       "3          0         0          0         0  \n",
       "4          0         0          1         0  \n",
       "\n",
       "[5 rows x 57 columns]"
      ]
     },
     "execution_count": 25,
     "metadata": {},
     "output_type": "execute_result"
    }
   ],
   "source": [
    "# what it looks like now\n",
    "games_full.head()"
   ]
  },
  {
   "cell_type": "markdown",
   "id": "1fee9459",
   "metadata": {},
   "source": [
    "Train-Test split for linear regression"
   ]
  },
  {
   "cell_type": "code",
   "execution_count": 26,
   "id": "1e795b8a",
   "metadata": {},
   "outputs": [],
   "source": [
    "# Predict Global_Sales from Genre, Rating, Platform, User_Score and Critic_Score \n",
    "y = games[\"Global_Sales\"].copy()\n",
    "X = games_full.drop(['Global_Sales','NA_Sales','EU_Sales','JP_Sales','Other_Sales'], axis = 1)"
   ]
  },
  {
   "cell_type": "code",
   "execution_count": 27,
   "id": "4f80e1ff",
   "metadata": {},
   "outputs": [],
   "source": [
    "# Now, split both X and y data into training and testing sets.\n",
    "X_train, X_test, y_train, y_test = train_test_split(X, y, \n",
    "                                       test_size=0.2, \n",
    "                                       random_state=42)"
   ]
  },
  {
   "cell_type": "code",
   "execution_count": 28,
   "id": "cd73c370",
   "metadata": {},
   "outputs": [],
   "source": [
    "# Create a local instance of the sklearn class\n",
    "lin_reg = LinearRegression()"
   ]
  },
  {
   "cell_type": "code",
   "execution_count": 29,
   "id": "ca181380",
   "metadata": {},
   "outputs": [
    {
     "data": {
      "text/plain": [
       "LinearRegression()"
      ]
     },
     "execution_count": 29,
     "metadata": {},
     "output_type": "execute_result"
    }
   ],
   "source": [
    "# Fit your instance to the training dataset\n",
    "lin_reg.fit(X_train, y_train)"
   ]
  },
  {
   "cell_type": "code",
   "execution_count": 30,
   "id": "8cd04675",
   "metadata": {},
   "outputs": [
    {
     "name": "stdout",
     "output_type": "stream",
     "text": [
      "Training score:  0.04847606045569386\n",
      "Testing score:  0.13088303066649187\n"
     ]
    }
   ],
   "source": [
    "lin_reg_score_train = lin_reg.score(X_test, y_test)\n",
    "lin_reg_score_test = lin_reg.score (X_train, y_train)\n",
    "print(\"Training score: \",lin_reg_score_train)\n",
    "print(\"Testing score: \",lin_reg_score_test)"
   ]
  },
  {
   "cell_type": "code",
   "execution_count": 31,
   "id": "32e8dffe",
   "metadata": {},
   "outputs": [],
   "source": [
    "# Make predictions on the testing dataset\n",
    "y_preds = lin_reg.predict(X_test)"
   ]
  },
  {
   "cell_type": "code",
   "execution_count": 32,
   "id": "e18ebd5e",
   "metadata": {},
   "outputs": [
    {
     "name": "stdout",
     "output_type": "stream",
     "text": [
      "mae 0.5864696883743017\n",
      "rmse 2.002829955806433\n",
      "R2 0.04847606045569386\n"
     ]
    }
   ],
   "source": [
    "# Evaluation\n",
    "print('mae', mean_absolute_error(y_test, y_preds))\n",
    "print('rmse', np.sqrt(mean_squared_error(y_test, y_preds)))\n",
    "print('R2', r2_score(y_test, y_preds))"
   ]
  },
  {
   "cell_type": "code",
   "execution_count": 33,
   "id": "df081e5d",
   "metadata": {},
   "outputs": [
    {
     "name": "stdout",
     "output_type": "stream",
     "text": [
      "106.01515362882233\n",
      "[-5.36038448e-02  3.75166085e-02 -8.00278300e-02 -8.38067730e-01\n",
      " -7.63213573e-01  4.76428219e-01 -5.25386841e-01  1.40705967e-01\n",
      "  1.98565465e+00 -2.15058698e-01 -3.00998205e-01  9.74286420e-02\n",
      "  7.24420524e-15 -3.67787039e-02  1.14997790e+00 -8.14854510e-01\n",
      " -3.04798430e-01 -1.33226763e-15 -1.48174003e-01  6.23522631e-02\n",
      "  3.98085503e-01  6.67889096e-01  2.24756849e-02  1.66198641e-01\n",
      " -5.98191492e-01 -5.49847065e-01 -7.27720484e-02 -7.72790953e-01\n",
      " -3.77674416e-01  3.71105201e-01  3.58972164e-01  3.99147462e-01\n",
      " -3.80162581e-01  4.02347857e-01  5.26675361e-02 -1.61098183e-01\n",
      "  3.97291344e-02 -3.68312928e-02  3.65054018e-01 -1.56232831e-01\n",
      "  6.25469259e-02  6.13893486e-02  9.63375948e-02 -2.81716554e-03\n",
      " -1.27799657e-01 -1.92945429e-01  5.67357899e-02 -5.81575348e-02\n",
      " -9.96244080e-02  3.30971492e-01 -2.07543351e-01 -2.23819884e-02]\n"
     ]
    }
   ],
   "source": [
    "# Print the coefficients and Intercept\n",
    "print(lin_reg.intercept_)\n",
    "print(lin_reg.coef_)"
   ]
  },
  {
   "cell_type": "code",
   "execution_count": 34,
   "id": "5ee5690a",
   "metadata": {},
   "outputs": [],
   "source": [
    "# coefficient checking and visualization\n",
    "feature_imp = pd.DataFrame(zip(X.columns, lin_reg.coef_), columns = ['features', 'coeffs'])\n",
    "feature_imp=feature_imp.set_index('features')\n",
    "feature_imp=feature_imp.sort_values('coeffs')"
   ]
  },
  {
   "cell_type": "code",
   "execution_count": 35,
   "id": "951dafd0",
   "metadata": {},
   "outputs": [
    {
     "data": {
      "image/png": "[encoded data removed]",
      "text/plain": [
       "<Figure size 1440x720 with 1 Axes>"
      ]
     },
     "metadata": {
      "needs_background": "light"
     },
     "output_type": "display_data"
    }
   ],
   "source": [
    "# plot that as a bar chart\n",
    "feature_imp.plot(kind='bar', figsize=(20,10));"
   ]
  },
  {
   "cell_type": "markdown",
   "id": "9b208dd7",
   "metadata": {},
   "source": [
    "## Findings\n",
    "- Platform is the dominant factor to affect global sales. Nintendo consoles and current generation (PS4 and Xbox one for this data set) generally have positive impact, yet PC games doesn't sell as good as console games\n",
    "- Mature Rating games, in generall, Sales is decent\n",
    "- In term of Genre, Shooter is the best among all Genres\n",
    "- Review Scores (both Critic and User score) do not seem to have strong impact to global sales"
   ]
  },
  {
   "cell_type": "code",
   "execution_count": 36,
   "id": "af92c5e7",
   "metadata": {},
   "outputs": [
    {
     "data": {
      "text/html": [
       "<div>\n",
       "<style scoped>\n",
       "    .dataframe tbody tr th:only-of-type {\n",
       "        vertical-align: middle;\n",
       "    }\n",
       "\n",
       "    .dataframe tbody tr th {\n",
       "        vertical-align: top;\n",
       "    }\n",
       "\n",
       "    .dataframe thead th {\n",
       "        text-align: right;\n",
       "    }\n",
       "</style>\n",
       "<table border=\"1\" class=\"dataframe\">\n",
       "  <thead>\n",
       "    <tr style=\"text-align: right;\">\n",
       "      <th></th>\n",
       "      <th>Platform</th>\n",
       "      <th>Year_of_Release</th>\n",
       "      <th>Genre</th>\n",
       "      <th>NA_Sales</th>\n",
       "      <th>EU_Sales</th>\n",
       "      <th>JP_Sales</th>\n",
       "      <th>Other_Sales</th>\n",
       "      <th>Global_Sales</th>\n",
       "      <th>Critic_Score</th>\n",
       "      <th>User_Score</th>\n",
       "      <th>Rating</th>\n",
       "    </tr>\n",
       "  </thead>\n",
       "  <tbody>\n",
       "    <tr>\n",
       "      <th>0</th>\n",
       "      <td>Wii</td>\n",
       "      <td>2006.0</td>\n",
       "      <td>Sports</td>\n",
       "      <td>41.36</td>\n",
       "      <td>28.96</td>\n",
       "      <td>3.77</td>\n",
       "      <td>8.45</td>\n",
       "      <td>82.53</td>\n",
       "      <td>76.000000</td>\n",
       "      <td>8.000000</td>\n",
       "      <td>E</td>\n",
       "    </tr>\n",
       "    <tr>\n",
       "      <th>1</th>\n",
       "      <td>NES</td>\n",
       "      <td>1985.0</td>\n",
       "      <td>Platform</td>\n",
       "      <td>29.08</td>\n",
       "      <td>3.58</td>\n",
       "      <td>6.81</td>\n",
       "      <td>0.77</td>\n",
       "      <td>40.24</td>\n",
       "      <td>68.967679</td>\n",
       "      <td>7.125046</td>\n",
       "      <td>RP</td>\n",
       "    </tr>\n",
       "    <tr>\n",
       "      <th>2</th>\n",
       "      <td>Wii</td>\n",
       "      <td>2008.0</td>\n",
       "      <td>Racing</td>\n",
       "      <td>15.68</td>\n",
       "      <td>12.76</td>\n",
       "      <td>3.79</td>\n",
       "      <td>3.29</td>\n",
       "      <td>35.52</td>\n",
       "      <td>82.000000</td>\n",
       "      <td>8.300000</td>\n",
       "      <td>E</td>\n",
       "    </tr>\n",
       "    <tr>\n",
       "      <th>3</th>\n",
       "      <td>Wii</td>\n",
       "      <td>2009.0</td>\n",
       "      <td>Sports</td>\n",
       "      <td>15.61</td>\n",
       "      <td>10.93</td>\n",
       "      <td>3.28</td>\n",
       "      <td>2.95</td>\n",
       "      <td>32.77</td>\n",
       "      <td>80.000000</td>\n",
       "      <td>8.000000</td>\n",
       "      <td>E</td>\n",
       "    </tr>\n",
       "    <tr>\n",
       "      <th>4</th>\n",
       "      <td>GB</td>\n",
       "      <td>1996.0</td>\n",
       "      <td>Role-Playing</td>\n",
       "      <td>11.27</td>\n",
       "      <td>8.89</td>\n",
       "      <td>10.22</td>\n",
       "      <td>1.00</td>\n",
       "      <td>31.37</td>\n",
       "      <td>68.967679</td>\n",
       "      <td>7.125046</td>\n",
       "      <td>RP</td>\n",
       "    </tr>\n",
       "    <tr>\n",
       "      <th>...</th>\n",
       "      <td>...</td>\n",
       "      <td>...</td>\n",
       "      <td>...</td>\n",
       "      <td>...</td>\n",
       "      <td>...</td>\n",
       "      <td>...</td>\n",
       "      <td>...</td>\n",
       "      <td>...</td>\n",
       "      <td>...</td>\n",
       "      <td>...</td>\n",
       "      <td>...</td>\n",
       "    </tr>\n",
       "    <tr>\n",
       "      <th>16714</th>\n",
       "      <td>PS3</td>\n",
       "      <td>2016.0</td>\n",
       "      <td>Action</td>\n",
       "      <td>0.00</td>\n",
       "      <td>0.00</td>\n",
       "      <td>0.01</td>\n",
       "      <td>0.00</td>\n",
       "      <td>0.01</td>\n",
       "      <td>68.967679</td>\n",
       "      <td>7.125046</td>\n",
       "      <td>RP</td>\n",
       "    </tr>\n",
       "    <tr>\n",
       "      <th>16715</th>\n",
       "      <td>X360</td>\n",
       "      <td>2006.0</td>\n",
       "      <td>Sports</td>\n",
       "      <td>0.00</td>\n",
       "      <td>0.01</td>\n",
       "      <td>0.00</td>\n",
       "      <td>0.00</td>\n",
       "      <td>0.01</td>\n",
       "      <td>68.967679</td>\n",
       "      <td>7.125046</td>\n",
       "      <td>RP</td>\n",
       "    </tr>\n",
       "    <tr>\n",
       "      <th>16716</th>\n",
       "      <td>PSV</td>\n",
       "      <td>2016.0</td>\n",
       "      <td>Adventure</td>\n",
       "      <td>0.00</td>\n",
       "      <td>0.00</td>\n",
       "      <td>0.01</td>\n",
       "      <td>0.00</td>\n",
       "      <td>0.01</td>\n",
       "      <td>68.967679</td>\n",
       "      <td>7.125046</td>\n",
       "      <td>RP</td>\n",
       "    </tr>\n",
       "    <tr>\n",
       "      <th>16717</th>\n",
       "      <td>GBA</td>\n",
       "      <td>2003.0</td>\n",
       "      <td>Platform</td>\n",
       "      <td>0.01</td>\n",
       "      <td>0.00</td>\n",
       "      <td>0.00</td>\n",
       "      <td>0.00</td>\n",
       "      <td>0.01</td>\n",
       "      <td>68.967679</td>\n",
       "      <td>7.125046</td>\n",
       "      <td>RP</td>\n",
       "    </tr>\n",
       "    <tr>\n",
       "      <th>16718</th>\n",
       "      <td>PSV</td>\n",
       "      <td>2016.0</td>\n",
       "      <td>Simulation</td>\n",
       "      <td>0.00</td>\n",
       "      <td>0.00</td>\n",
       "      <td>0.01</td>\n",
       "      <td>0.00</td>\n",
       "      <td>0.01</td>\n",
       "      <td>68.967679</td>\n",
       "      <td>7.125046</td>\n",
       "      <td>RP</td>\n",
       "    </tr>\n",
       "  </tbody>\n",
       "</table>\n",
       "<p>16448 rows × 11 columns</p>\n",
       "</div>"
      ],
      "text/plain": [
       "      Platform  Year_of_Release         Genre  NA_Sales  EU_Sales  JP_Sales  \\\n",
       "0          Wii           2006.0        Sports     41.36     28.96      3.77   \n",
       "1          NES           1985.0      Platform     29.08      3.58      6.81   \n",
       "2          Wii           2008.0        Racing     15.68     12.76      3.79   \n",
       "3          Wii           2009.0        Sports     15.61     10.93      3.28   \n",
       "4           GB           1996.0  Role-Playing     11.27      8.89     10.22   \n",
       "...        ...              ...           ...       ...       ...       ...   \n",
       "16714      PS3           2016.0        Action      0.00      0.00      0.01   \n",
       "16715     X360           2006.0        Sports      0.00      0.01      0.00   \n",
       "16716      PSV           2016.0     Adventure      0.00      0.00      0.01   \n",
       "16717      GBA           2003.0      Platform      0.01      0.00      0.00   \n",
       "16718      PSV           2016.0    Simulation      0.00      0.00      0.01   \n",
       "\n",
       "       Other_Sales  Global_Sales  Critic_Score  User_Score Rating  \n",
       "0             8.45         82.53     76.000000    8.000000      E  \n",
       "1             0.77         40.24     68.967679    7.125046     RP  \n",
       "2             3.29         35.52     82.000000    8.300000      E  \n",
       "3             2.95         32.77     80.000000    8.000000      E  \n",
       "4             1.00         31.37     68.967679    7.125046     RP  \n",
       "...            ...           ...           ...         ...    ...  \n",
       "16714         0.00          0.01     68.967679    7.125046     RP  \n",
       "16715         0.00          0.01     68.967679    7.125046     RP  \n",
       "16716         0.00          0.01     68.967679    7.125046     RP  \n",
       "16717         0.00          0.01     68.967679    7.125046     RP  \n",
       "16718         0.00          0.01     68.967679    7.125046     RP  \n",
       "\n",
       "[16448 rows x 11 columns]"
      ]
     },
     "execution_count": 36,
     "metadata": {},
     "output_type": "execute_result"
    }
   ],
   "source": [
    "games"
   ]
  },
  {
   "cell_type": "code",
   "execution_count": 37,
   "id": "98b04a40",
   "metadata": {},
   "outputs": [],
   "source": [
    "# Transform categorized variable ('Genre')\n",
    "games['Genre'], label_genre = pd.factorize(games['Genre'])\n",
    "games['Platform'], label_platform = pd.factorize(games['Platform'])"
   ]
  },
  {
   "cell_type": "code",
   "execution_count": 38,
   "id": "bc99a87b",
   "metadata": {},
   "outputs": [
    {
     "data": {
      "text/plain": [
       "Index(['Sports', 'Platform', 'Racing', 'Role-Playing', 'Puzzle', 'Misc',\n",
       "       'Shooter', 'Simulation', 'Action', 'Fighting', 'Adventure', 'Strategy'],\n",
       "      dtype='object')"
      ]
     },
     "execution_count": 38,
     "metadata": {},
     "output_type": "execute_result"
    }
   ],
   "source": [
    "# check numerized genre labels\n",
    "label_genre"
   ]
  },
  {
   "cell_type": "code",
   "execution_count": 39,
   "id": "b1bc29cf",
   "metadata": {},
   "outputs": [
    {
     "data": {
      "text/plain": [
       "Index(['Wii', 'NES', 'GB', 'DS', 'X360', 'PS3', 'PS2', 'SNES', 'GBA', 'PS4',\n",
       "       '3DS', 'N64', 'PS', 'XB', 'PC', '2600', 'PSP', 'XOne', 'WiiU', 'GC',\n",
       "       'GEN', 'DC', 'PSV', 'SAT', 'SCD', 'WS', 'NG', 'TG16', '3DO', 'GG',\n",
       "       'PCFX'],\n",
       "      dtype='object')"
      ]
     },
     "execution_count": 39,
     "metadata": {},
     "output_type": "execute_result"
    }
   ],
   "source": [
    "# check numberized platform labels\n",
    "label_platform"
   ]
  },
  {
   "cell_type": "markdown",
   "id": "4b7889ce",
   "metadata": {},
   "source": [
    "Now a model to predict Europe Sales from North American Sales"
   ]
  },
  {
   "cell_type": "code",
   "execution_count": 40,
   "id": "7796b259",
   "metadata": {},
   "outputs": [],
   "source": [
    "y_sales = games[\"EU_Sales\"].copy()\n",
    "X_sales = games.drop(['Global_Sales','JP_Sales', 'EU_Sales', 'Other_Sales', 'Year_of_Release', 'User_Score', 'Critic_Score', 'Rating'], axis = 1)"
   ]
  },
  {
   "cell_type": "code",
   "execution_count": 41,
   "id": "faca7874",
   "metadata": {},
   "outputs": [
    {
     "data": {
      "text/plain": [
       "LinearRegression()"
      ]
     },
     "execution_count": 41,
     "metadata": {},
     "output_type": "execute_result"
    }
   ],
   "source": [
    "# Now, split both X and y data into training and testing sets.\n",
    "X_sales_train, X_sales_test, y_sales_train, y_sales_test = train_test_split(X_sales, y_sales, \n",
    "                                       test_size=0.2, \n",
    "                                       random_state=42)\n",
    "\n",
    "# Create a local instance of the sklearn class\n",
    "lin_reg_sales = LinearRegression()\n",
    "\n",
    "# Fit your instance to the training dataset\n",
    "lin_reg_sales.fit(X_sales_train, y_sales_train)\n",
    "\n"
   ]
  },
  {
   "cell_type": "code",
   "execution_count": 42,
   "id": "03070421",
   "metadata": {},
   "outputs": [
    {
     "name": "stdout",
     "output_type": "stream",
     "text": [
      "0.051137792717953254\n",
      "[-0.0008035  -0.00118762  0.40559451]\n"
     ]
    }
   ],
   "source": [
    "# Print the coefficients.\n",
    "print(lin_reg_sales.intercept_)\n",
    "print(lin_reg_sales.coef_)"
   ]
  },
  {
   "cell_type": "code",
   "execution_count": 43,
   "id": "9634b830",
   "metadata": {},
   "outputs": [
    {
     "name": "stdout",
     "output_type": "stream",
     "text": [
      "Training score:  0.7251607603384504\n",
      "Testing score:  0.48185634208965855\n",
      "mae 0.11223120880164543\n",
      "rmse 0.3681048431142222\n",
      "R2 0.7251607603384504\n"
     ]
    }
   ],
   "source": [
    "# Eu_Sales evaluation\n",
    "lin_reg_sales_score_train = lin_reg_sales.score(X_sales_test, y_sales_test)\n",
    "lin_reg_sales_score_test = lin_reg_sales.score (X_sales_train, y_sales_train)\n",
    "\n",
    "print(\"Training score: \",lin_reg_sales_score_train)\n",
    "print(\"Testing score: \",lin_reg_sales_score_test)\n",
    "\n",
    "# Make predictions on the testing dataset\n",
    "y_sales_preds = lin_reg_sales.predict(X_sales_test)\n",
    "\n",
    "# Evaluation. What do these mean?\n",
    "print('mae', mean_absolute_error(y_sales_test, y_sales_preds))\n",
    "print('rmse', np.sqrt(mean_squared_error(y_sales_test, y_sales_preds)))\n",
    "print('R2', r2_score(y_sales_test, y_sales_preds))"
   ]
  },
  {
   "cell_type": "code",
   "execution_count": 44,
   "id": "ffe436e5",
   "metadata": {},
   "outputs": [
    {
     "data": {
      "text/plain": [
       "array([4.73575434, 1.25241179])"
      ]
     },
     "execution_count": 44,
     "metadata": {},
     "output_type": "execute_result"
    }
   ],
   "source": [
    "# try some other data\n",
    "# predict EU sales from 11.5 millions NA sales on a sport Wii game\n",
    "# predict EU sales from 3 millions NA sales on a shooter Wii game\n",
    "m = lin_reg_sales.predict([[0, 0, 11.55],[6, 9, 3]])\n",
    "m"
   ]
  },
  {
   "cell_type": "markdown",
   "id": "87df8aeb",
   "metadata": {},
   "source": [
    "Now a model to predict Japanese Sales from North American Sales"
   ]
  },
  {
   "cell_type": "code",
   "execution_count": 45,
   "id": "eabc692d",
   "metadata": {},
   "outputs": [],
   "source": [
    "y_sales = games[\"JP_Sales\"].copy()\n",
    "X_sales = games.drop(['Global_Sales','JP_Sales', 'EU_Sales', 'Other_Sales', 'Year_of_Release', 'User_Score', 'Critic_Score', 'Rating'], axis = 1)"
   ]
  },
  {
   "cell_type": "code",
   "execution_count": 46,
   "id": "e87a0e8b",
   "metadata": {},
   "outputs": [
    {
     "data": {
      "text/plain": [
       "LinearRegression()"
      ]
     },
     "execution_count": 46,
     "metadata": {},
     "output_type": "execute_result"
    }
   ],
   "source": [
    "# Now, split both X and y data into training and testing sets.\n",
    "X_sales_train, X_sales_test, y_sales_train, y_sales_test = train_test_split(X_sales, y_sales, \n",
    "                                       test_size=0.2, \n",
    "                                       random_state=42)\n",
    "\n",
    "# Create a local instance of the sklearn class\n",
    "lin_reg_jp_sales = LinearRegression()\n",
    "\n",
    "# Fit your instance to the training dataset\n",
    "lin_reg_jp_sales.fit(X_sales_train, y_sales_train)"
   ]
  },
  {
   "cell_type": "code",
   "execution_count": 47,
   "id": "92b57b31",
   "metadata": {},
   "outputs": [
    {
     "name": "stdout",
     "output_type": "stream",
     "text": [
      "Training score:  0.16828424024166855\n",
      "Testing score:  0.21390815623948323\n",
      "mae 0.11897168147908745\n",
      "rmse 0.31082319872708003\n",
      "R2 0.16828424024166855\n"
     ]
    }
   ],
   "source": [
    " #JP_Sales evaluation\n",
    "lin_reg_sales_score_train = lin_reg_jp_sales.score(X_sales_test, y_sales_test)\n",
    "lin_reg_sales_score_test = lin_reg_jp_sales.score (X_sales_train, y_sales_train)\n",
    "\n",
    "print(\"Training score: \",lin_reg_sales_score_train)\n",
    "print(\"Testing score: \",lin_reg_sales_score_test)\n",
    "\n",
    "# Make predictions on the testing dataset\n",
    "y_sales_preds = lin_reg_jp_sales.predict(X_sales_test)\n",
    "\n",
    "# Evaluation. What do these mean?\n",
    "print('mae', mean_absolute_error(y_sales_test, y_sales_preds))\n",
    "print('rmse', np.sqrt(mean_squared_error(y_sales_test, y_sales_preds)))\n",
    "print('R2', r2_score(y_sales_test, y_sales_preds))"
   ]
  },
  {
   "cell_type": "markdown",
   "id": "b76f0974",
   "metadata": {},
   "source": [
    "Last a model to predict Other Sales from North American Sales"
   ]
  },
  {
   "cell_type": "code",
   "execution_count": 48,
   "id": "583b9ae8",
   "metadata": {},
   "outputs": [],
   "source": [
    "y_sales = games[\"Other_Sales\"].copy()\n",
    "X_sales = games.drop(['Global_Sales','JP_Sales', 'EU_Sales', 'Other_Sales', 'Year_of_Release', 'User_Score', 'Critic_Score', 'Rating'], axis = 1)"
   ]
  },
  {
   "cell_type": "code",
   "execution_count": 49,
   "id": "bfbc7f73",
   "metadata": {},
   "outputs": [
    {
     "data": {
      "text/plain": [
       "LinearRegression()"
      ]
     },
     "execution_count": 49,
     "metadata": {},
     "output_type": "execute_result"
    }
   ],
   "source": [
    "# Now, split both X and y data into training and testing sets.\n",
    "X_sales_train, X_sales_test, y_sales_train, y_sales_test = train_test_split(X_sales, y_sales, \n",
    "                                       test_size=0.2, \n",
    "                                       random_state=42)\n",
    "\n",
    "# Create a local instance of the sklearn class\n",
    "lin_reg_other_sales = LinearRegression()\n",
    "\n",
    "# Fit your instance to the training dataset\n",
    "lin_reg_other_sales.fit(X_sales_train, y_sales_train)"
   ]
  },
  {
   "cell_type": "code",
   "execution_count": 50,
   "id": "db1cf648",
   "metadata": {},
   "outputs": [
    {
     "name": "stdout",
     "output_type": "stream",
     "text": [
      "Training score:  0.7266150708560496\n",
      "Testing score:  0.2959913103691323\n",
      "mae 0.03507176580915768\n",
      "rmse 0.10971552557668965\n",
      "R2 0.7266150708560496\n"
     ]
    }
   ],
   "source": [
    " #Other_Sales evaluation\n",
    "lin_reg_sales_score_train = lin_reg_other_sales.score(X_sales_test, y_sales_test)\n",
    "lin_reg_sales_score_test = lin_reg_other_sales.score (X_sales_train, y_sales_train)\n",
    "\n",
    "print(\"Training score: \",lin_reg_sales_score_train)\n",
    "print(\"Testing score: \",lin_reg_sales_score_test)\n",
    "\n",
    "# Make predictions on the testing dataset\n",
    "y_sales_preds = lin_reg_other_sales.predict(X_sales_test)\n",
    "\n",
    "# Evaluation. What do these mean?\n",
    "print('mae', mean_absolute_error(y_sales_test, y_sales_preds))\n",
    "print('rmse', np.sqrt(mean_squared_error(y_sales_test, y_sales_preds)))\n",
    "print('R2', r2_score(y_sales_test, y_sales_preds))"
   ]
  },
  {
   "cell_type": "markdown",
   "id": "01a8bf3f",
   "metadata": {},
   "source": [
    "## Pickle model"
   ]
  },
  {
   "cell_type": "code",
   "execution_count": 51,
   "id": "ee2ad955",
   "metadata": {},
   "outputs": [],
   "source": [
    "# pickle models\n",
    "filename = open('../model_components/na_eu_lr_model.pkl', 'wb')\n",
    "pickle.dump(lin_reg_sales, filename)\n",
    "filename.close()\n",
    "\n",
    "filename = open('../model_components/na_jp_lr_model.pkl', 'wb')\n",
    "pickle.dump(lin_reg_jp_sales, filename)\n",
    "filename.close()\n",
    "\n",
    "filename = open('../model_components/na_other_lr_model.pkl', 'wb')\n",
    "pickle.dump(lin_reg_other_sales, filename)\n",
    "filename.close()\n",
    "\n",
    "# pickle drop down labels\n",
    "filename = open('../model_components/genre_label.pkl', 'wb')\n",
    "pickle.dump(label_genre, filename)\n",
    "filename.close()\n",
    "\n",
    "filename = open('../model_components/platform_label.pkl', 'wb')\n",
    "pickle.dump(label_platform, filename)\n",
    "filename.close()"
   ]
  },
  {
   "cell_type": "markdown",
   "id": "d1e50880",
   "metadata": {},
   "source": [
    "# Thank you!"
   ]
  },
  {
   "cell_type": "code",
   "execution_count": null,
   "id": "661d84ef",
   "metadata": {},
   "outputs": [],
   "source": []
  }
 ],
 "metadata": {
  "kernelspec": {
   "display_name": "Python 3",
   "language": "python",
   "name": "python3"
  },
  "language_info": {
   "codemirror_mode": {
    "name": "ipython",
    "version": 3
   },
   "file_extension": ".py",
   "mimetype": "text/x-python",
   "name": "python",
   "nbconvert_exporter": "python",
   "pygments_lexer": "ipython3",
   "version": "3.8.8"
  }
 },
 "nbformat": 4,
 "nbformat_minor": 5
}
